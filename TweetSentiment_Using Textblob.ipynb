{
 "cells": [
  {
   "cell_type": "code",
   "execution_count": 196,
   "metadata": {},
   "outputs": [],
   "source": [
    "import twitter\n",
    "import re\n",
    "import os\n",
    "import csv\n",
    "from textblob import TextBlob\n",
    "import pandas as pd\n",
    "from datetime import datetime"
   ]
  },
  {
   "cell_type": "code",
   "execution_count": 77,
   "metadata": {},
   "outputs": [],
   "source": [
    "api = twitter.Api(consumer_key = os.environ['Twitter_Ckey'], \n",
    "                  consumer_secret= os.environ['Twitter_Csecret'], \n",
    "                  access_token_key= os.environ['Twitter_Atoken'], \n",
    "                  access_token_secret= os.environ['Twitter_ATsecret'], sleep_on_rate_limit=True, tweet_mode='extended')"
   ]
  },
  {
   "cell_type": "code",
   "execution_count": 150,
   "metadata": {},
   "outputs": [],
   "source": [
    "# Preprocess Tweets\n",
    "def preProcessTweets(tweet):\n",
    "    #Convert to lower case\n",
    "    tweet = tweet.lower()\n",
    "    #Convert www.* or https?://* to URL\n",
    "    tweet = re.sub('((www\\.[^\\s]+)|(https?://[^\\s]+)|(http?://[^\\s]+))','URL',tweet)\n",
    "    #Convert @username to AT_USER\n",
    "    tweet = re.sub('@[^\\s]+','AT_USER',tweet)\n",
    "    #Remove additional white spaces\n",
    "    tweet = re.sub('[\\s]+', ' ', tweet)\n",
    "    #Replace #word with word\n",
    "    tweet = re.sub(r'#([^\\s]+)', r'\\1', tweet)\n",
    "    #trim\n",
    "    tweet = tweet.strip('\\'\"')\n",
    "    return tweet   "
   ]
  },
  {
   "cell_type": "code",
   "execution_count": 151,
   "metadata": {},
   "outputs": [],
   "source": [
    "def getTweetsData(search_term, tweet_count, date):\n",
    "    try:\n",
    "        tweets = api.GetSearch(search_term, count=tweet_count, since = date) # date format is YYYY-MM-DD\n",
    "        return [{\"Text\":preProcessTweets(status.full_text), \"User\":status.user.screen_name, \"UserName\":status.user.name, \"CreatedAt\": status.created_at} for status in tweets]\n",
    "    except:\n",
    "        print('Error occured')\n",
    "        return None"
   ]
  },
  {
   "cell_type": "code",
   "execution_count": 152,
   "metadata": {},
   "outputs": [],
   "source": [
    "def get_tweet_sentiment(tweet):\n",
    "        '''\n",
    "        Function to know tweet's sentiment\n",
    "        '''\n",
    "        # create TextBlob object of passed tweet text\n",
    "        analysis = TextBlob(tweet)\n",
    "        # set sentiment\n",
    "        if analysis.sentiment.polarity > 0:\n",
    "            return 'positive'\n",
    "        elif analysis.sentiment.polarity == 0:\n",
    "            return 'neutral'\n",
    "        else:\n",
    "            return 'negative'"
   ]
  },
  {
   "cell_type": "code",
   "execution_count": 192,
   "metadata": {},
   "outputs": [],
   "source": [
    "def sentimentPercent(tweetD):\n",
    "    if len(tweetD) >0:\n",
    "        # picking positive tweets from tweets\n",
    "        ptweets = [tweet['Text'] for tweet in tweetD if get_tweet_sentiment(tweet['Text']) == 'positive']\n",
    "        # percentage of positive tweets\n",
    "        print(\"Positive tweets percentage: {} %\".format(round(100*len(ptweets)/len(tweetD),2)))\n",
    "        # picking negative tweets from tweets\n",
    "        ntweets = [tweet['Text'] for tweet in tweetD if get_tweet_sentiment(tweet['Text']) == 'negative']\n",
    "        # percentage of negative tweets\n",
    "        print(\"Negative tweets percentage: {} %\".format(round(100*len(ntweets)/len(tweetD),2)))\n",
    "        # picking neutral tweets from tweets\n",
    "        nutweets = [tweet['Text'] for tweet in tweetD if get_tweet_sentiment(tweet['Text']) == 'neutral']\n",
    "        # percentage of neutral tweets\n",
    "        print(\"Neutral tweets percentage: {} %\".format(round(100*len(nutweets)/len(tweetD),2)))\n",
    "    else:\n",
    "        print(\"No tweet data for sentiment analysis\")"
   ]
  },
  {
   "cell_type": "code",
   "execution_count": 235,
   "metadata": {
    "scrolled": true
   },
   "outputs": [
    {
     "name": "stdout",
     "output_type": "stream",
     "text": [
      "Enter your search term:Bitcoin\n",
      "How many tweets you want to fetch, enter the count:5\n",
      "Enter the date in format: YYYY-MM-DD to fetch tweets from that date:2018-04-07\n"
     ]
    }
   ],
   "source": [
    "searchTerm = input('Enter your search term:')\n",
    "tweetCount = input('How many tweets you want to fetch, enter the count:')\n",
    "tweetSince = input('Enter the date in format: YYYY-MM-DD to fetch tweets from that date:')\n",
    "tweetsData = getTweetsData(searchTerm, tweetCount, tweetSince)"
   ]
  },
  {
   "cell_type": "code",
   "execution_count": 240,
   "metadata": {},
   "outputs": [],
   "source": [
    "mdt = tweetsData[0]['User'].encode(\"utf-8\")\n",
    "mdtt = mdt.decode(\"utf-8\")"
   ]
  },
  {
   "cell_type": "code",
   "execution_count": 202,
   "metadata": {
    "scrolled": true
   },
   "outputs": [],
   "source": [
    "# Open a csv file to store the Tweets Data\n",
    "file_name = 'Sentiment_Analysis_of_{}_Tweets_About_{}.csv'.format(tweetCount, searchTerm)\n",
    "with open(file_name, 'w', newline='') as csvFile:\n",
    "    #Use csv Writer\n",
    "    csvWriter = csv.DictWriter(f=csvFile, fieldnames=[\"TweetText\", \"User\", \"UserName\", \"CreatedAt\", \"Sentiment\"])\n",
    "    csvWriter.writeheader()\n",
    "    for i in range(0,len(tweetsData)):\n",
    "        senti = get_tweet_sentiment(tweetsData[i]['Text'])\n",
    "        csvWriter.writerow({\"TweetText\":tweetsData[i]['Text'].encode(\"utf-8\"), \n",
    "                             \"User\":tweetsData[i]['User'].encode(\"utf-8\"), \n",
    "                             \"UserName\":tweetsData[i]['UserName'].encode(\"utf-8\"), \n",
    "                             \"CreatedAt\":tweetsData[i]['CreatedAt'],\"Sentiment\":senti})"
   ]
  },
  {
   "cell_type": "code",
   "execution_count": 203,
   "metadata": {
    "scrolled": false
   },
   "outputs": [
    {
     "name": "stdout",
     "output_type": "stream",
     "text": [
      "Positive tweets percentage: 60.0 %\n",
      "Negative tweets percentage: 10.0 %\n",
      "Nutral tweets percentage: 30.0 %\n"
     ]
    }
   ],
   "source": [
    "sentimentPercent(tweetsData)"
   ]
  },
  {
   "cell_type": "code",
   "execution_count": 195,
   "metadata": {},
   "outputs": [],
   "source": [
    "import sqlite3"
   ]
  },
  {
   "cell_type": "code",
   "execution_count": 225,
   "metadata": {},
   "outputs": [],
   "source": [
    "conn = sqlite3.connect('twitterData.db')"
   ]
  },
  {
   "cell_type": "code",
   "execution_count": 234,
   "metadata": {},
   "outputs": [
    {
     "name": "stdout",
     "output_type": "stream",
     "text": [
      "TwitterTable already exists\n"
     ]
    }
   ],
   "source": [
    "targettwitterTable = 'TwitterTable'\n",
    "c = conn.cursor()\n",
    "try:\n",
    "    c.execute('CREATE TABLE '+ targettwitterTable +'(dbtweettext text, dbtwittersentiment text)')\n",
    "except:\n",
    "    print('TwitterTable already exists')"
   ]
  },
  {
   "cell_type": "code",
   "execution_count": 227,
   "metadata": {},
   "outputs": [],
   "source": [
    "# update data in the table\n",
    "for i in range(0,len(tweetsData)):\n",
    "    c.execute('insert into TwitterTable values (?,?)', (tweetsData[i]['Text'].encode(\"utf-8\"), \n",
    "                                                        get_tweet_sentiment(tweetsData[i]['Text'])))"
   ]
  },
  {
   "cell_type": "code",
   "execution_count": 205,
   "metadata": {},
   "outputs": [],
   "source": [
    "# commit the db and close the connection\n",
    "conn.commit()\n",
    "c.close()"
   ]
  },
  {
   "cell_type": "code",
   "execution_count": null,
   "metadata": {},
   "outputs": [],
   "source": [
    "## Fetch saved data"
   ]
  },
  {
   "cell_type": "code",
   "execution_count": 226,
   "metadata": {},
   "outputs": [],
   "source": [
    "conn = sqlite3.connect('twitterData.db')\n",
    "c = conn.cursor()"
   ]
  },
  {
   "cell_type": "code",
   "execution_count": 231,
   "metadata": {},
   "outputs": [],
   "source": [
    "rslt = c.execute('Select * from TwitterTable')"
   ]
  },
  {
   "cell_type": "code",
   "execution_count": 230,
   "metadata": {},
   "outputs": [],
   "source": [
    "for i in rslt:\n",
    "    print(i)"
   ]
  },
  {
   "cell_type": "code",
   "execution_count": 224,
   "metadata": {},
   "outputs": [],
   "source": [
    "c.close()"
   ]
  }
 ],
 "metadata": {
  "kernelspec": {
   "display_name": "Python 3",
   "language": "python",
   "name": "python3"
  },
  "language_info": {
   "codemirror_mode": {
    "name": "ipython",
    "version": 3
   },
   "file_extension": ".py",
   "mimetype": "text/x-python",
   "name": "python",
   "nbconvert_exporter": "python",
   "pygments_lexer": "ipython3",
   "version": "3.6.4"
  }
 },
 "nbformat": 4,
 "nbformat_minor": 2
}
